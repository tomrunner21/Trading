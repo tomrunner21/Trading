{
  "nbformat": 4,
  "nbformat_minor": 0,
  "metadata": {
    "colab": {
      "name": "SFP for one ticker.ipynb",
      "provenance": [],
      "collapsed_sections": [],
      "authorship_tag": "ABX9TyNfRuz/q6BtvfW6ZvweLuGn",
      "include_colab_link": true
    },
    "kernelspec": {
      "name": "python3",
      "display_name": "Python 3"
    },
    "language_info": {
      "name": "python"
    }
  },
  "cells": [
    {
      "cell_type": "markdown",
      "metadata": {
        "id": "view-in-github",
        "colab_type": "text"
      },
      "source": [
        "<a href=\"https://colab.research.google.com/github/tomrunner21/Trading/blob/main/SFP_for_one_ticker.ipynb\" target=\"_parent\"><img src=\"https://colab.research.google.com/assets/colab-badge.svg\" alt=\"Open In Colab\"/></a>"
      ]
    },
    {
      "cell_type": "code",
      "metadata": {
        "id": "X3wRtS-0O5Wd"
      },
      "source": [
        "# Getting single tickers new headliners posted on FinViz and checking if the word blockchain is in any recent headliners.\n",
        "# Also want to later check a list of BTC related words to widen research\n",
        "# Also want to maybe be able to research what tickers move more with different BTC words in the headliners to later keep an eye on\n",
        "# Doing this because BITF moved two weeks after a blockchain headline on it and is less than know crypo miner IPO to come to light but few notice\n",
        "# Also want to push this to check other tickers for things such as semis, masks, alzs, or etc.\n",
        "###^^^ copied this for original notebook so not real purpose of this notebook, this is to be used to join the final project notebook."
      ],
      "execution_count": null,
      "outputs": []
    },
    {
      "cell_type": "code",
      "metadata": {
        "colab": {
          "base_uri": "https://localhost:8080/"
        },
        "id": "0dwO19d1kULb",
        "outputId": "0b5ce6fb-a383-4134-c10e-1f1249ec92e2"
      },
      "source": [
        "from google.colab import drive\n",
        "drive.mount('drive')"
      ],
      "execution_count": null,
      "outputs": [
        {
          "output_type": "stream",
          "text": [
            "Drive already mounted at drive; to attempt to forcibly remount, call drive.mount(\"drive\", force_remount=True).\n"
          ],
          "name": "stdout"
        }
      ]
    },
    {
      "cell_type": "code",
      "metadata": {
        "id": "hIaUdwrlBbuo"
      },
      "source": [
        "import requests\n",
        "from requests import get\n",
        "import pandas as pd\n",
        "import numpy as np\n",
        "\n",
        "from time import sleep\n",
        "from random import randint\n",
        "\n",
        "from bs4 import BeautifulSoup as soup\n",
        "from urllib.request import Request, urlopen\n",
        "\n",
        "SFP = []\n",
        "SFP_values = []\n",
        "\n",
        "def SFP_for_one():\n",
        "  count = 0\n",
        "  url = (\"https://finviz.com/quote.ashx?t=gnog\")\n",
        "  req = Request(url, headers={'User-Agent': 'Mozilla/5.0'})\n",
        "  webpage = urlopen(req).read()\n",
        "  html = soup(webpage, \"html.parser\")\n",
        "\n",
        "  company_attributes_values = html.find_all(attrs = {'class': 'snapshot-td2-cp'})\n",
        "  company_attributes = html.find_all(attrs = {'class': 'snapshot-td2'})\n",
        "\n",
        "  for ticker in company_attributes_values:\n",
        "    SFP.append(ticker.get_text().strip())\n",
        "    text = ticker.get_text().strip()\n",
        "\n",
        "  for ticker in company_attributes:\n",
        "    SFP_values.append(ticker.get_text().strip())\n",
        "    text = ticker.get_text().strip()\n",
        "\n",
        "SFP_for_one()\n",
        "df_titles = pd.DataFrame(SFP)\n",
        "df_values = pd.DataFrame(SFP_values)"
      ],
      "execution_count": 20,
      "outputs": []
    },
    {
      "cell_type": "code",
      "metadata": {
        "id": "pxXFBEWHGp0d"
      },
      "source": [
        "# df_titles"
      ],
      "execution_count": 26,
      "outputs": []
    },
    {
      "cell_type": "code",
      "metadata": {
        "id": "PT6Ak0XfHL-L"
      },
      "source": [
        "# df_values"
      ],
      "execution_count": 25,
      "outputs": []
    },
    {
      "cell_type": "code",
      "metadata": {
        "colab": {
          "base_uri": "https://localhost:8080/",
          "height": 419
        },
        "id": "2ZOmyjj3HPv4",
        "outputId": "3489c0a4-6131-4d73-ce4c-9eb89e0ecc04"
      },
      "source": [
        "result = pd.concat([df_titles, df_values], axis=1)\n",
        "result"
      ],
      "execution_count": 27,
      "outputs": [
        {
          "output_type": "execute_result",
          "data": {
            "text/html": [
              "<div>\n",
              "<style scoped>\n",
              "    .dataframe tbody tr th:only-of-type {\n",
              "        vertical-align: middle;\n",
              "    }\n",
              "\n",
              "    .dataframe tbody tr th {\n",
              "        vertical-align: top;\n",
              "    }\n",
              "\n",
              "    .dataframe thead th {\n",
              "        text-align: right;\n",
              "    }\n",
              "</style>\n",
              "<table border=\"1\" class=\"dataframe\">\n",
              "  <thead>\n",
              "    <tr style=\"text-align: right;\">\n",
              "      <th></th>\n",
              "      <th>0</th>\n",
              "      <th>0</th>\n",
              "    </tr>\n",
              "  </thead>\n",
              "  <tbody>\n",
              "    <tr>\n",
              "      <th>0</th>\n",
              "      <td>Index</td>\n",
              "      <td>-</td>\n",
              "    </tr>\n",
              "    <tr>\n",
              "      <th>1</th>\n",
              "      <td>P/E</td>\n",
              "      <td>16.76</td>\n",
              "    </tr>\n",
              "    <tr>\n",
              "      <th>2</th>\n",
              "      <td>EPS (ttm)</td>\n",
              "      <td>1.10</td>\n",
              "    </tr>\n",
              "    <tr>\n",
              "      <th>3</th>\n",
              "      <td>Insider Own</td>\n",
              "      <td>2.70%</td>\n",
              "    </tr>\n",
              "    <tr>\n",
              "      <th>4</th>\n",
              "      <td>Shs Outstand</td>\n",
              "      <td>46.57M</td>\n",
              "    </tr>\n",
              "    <tr>\n",
              "      <th>...</th>\n",
              "      <td>...</td>\n",
              "      <td>...</td>\n",
              "    </tr>\n",
              "    <tr>\n",
              "      <th>67</th>\n",
              "      <td>SMA20</td>\n",
              "      <td>59.12%</td>\n",
              "    </tr>\n",
              "    <tr>\n",
              "      <th>68</th>\n",
              "      <td>SMA50</td>\n",
              "      <td>48.53%</td>\n",
              "    </tr>\n",
              "    <tr>\n",
              "      <th>69</th>\n",
              "      <td>SMA200</td>\n",
              "      <td>19.00%</td>\n",
              "    </tr>\n",
              "    <tr>\n",
              "      <th>70</th>\n",
              "      <td>Volume</td>\n",
              "      <td>35,517,861</td>\n",
              "    </tr>\n",
              "    <tr>\n",
              "      <th>71</th>\n",
              "      <td>Change</td>\n",
              "      <td>50.77%</td>\n",
              "    </tr>\n",
              "  </tbody>\n",
              "</table>\n",
              "<p>72 rows × 2 columns</p>\n",
              "</div>"
            ],
            "text/plain": [
              "               0           0\n",
              "0          Index           -\n",
              "1            P/E       16.76\n",
              "2      EPS (ttm)        1.10\n",
              "3    Insider Own       2.70%\n",
              "4   Shs Outstand      46.57M\n",
              "..           ...         ...\n",
              "67         SMA20      59.12%\n",
              "68         SMA50      48.53%\n",
              "69        SMA200      19.00%\n",
              "70        Volume  35,517,861\n",
              "71        Change      50.77%\n",
              "\n",
              "[72 rows x 2 columns]"
            ]
          },
          "metadata": {
            "tags": []
          },
          "execution_count": 27
        }
      ]
    }
  ]
}