{
  "nbformat": 4,
  "nbformat_minor": 0,
  "metadata": {
    "colab": {
      "name": "Updated blockchain word in all tickers' news",
      "provenance": [],
      "authorship_tag": "ABX9TyN79kpXbEGrXOq0zgvbufej",
      "include_colab_link": true
    },
    "kernelspec": {
      "name": "python3",
      "display_name": "Python 3"
    },
    "language_info": {
      "name": "python"
    }
  },
  "cells": [
    {
      "cell_type": "markdown",
      "metadata": {
        "id": "view-in-github",
        "colab_type": "text"
      },
      "source": [
        "<a href=\"https://colab.research.google.com/github/tomrunner21/Trading/blob/main/Updated_blockchain_word_in_all_tickers'_news.ipynb\" target=\"_parent\"><img src=\"https://colab.research.google.com/assets/colab-badge.svg\" alt=\"Open In Colab\"/></a>"
      ]
    },
    {
      "cell_type": "code",
      "metadata": {
        "colab": {
          "base_uri": "https://localhost:8080/"
        },
        "id": "tbcR5aHFx75D",
        "outputId": "c398e03c-0b08-409d-c36e-a3fa2fe62ff4"
      },
      "source": [
        "from google.colab import drive\n",
        "drive.mount('drive')"
      ],
      "execution_count": null,
      "outputs": [
        {
          "output_type": "stream",
          "text": [
            "Mounted at drive\n"
          ],
          "name": "stdout"
        }
      ]
    },
    {
      "cell_type": "code",
      "metadata": {
        "colab": {
          "base_uri": "https://localhost:8080/"
        },
        "id": "Zrmbn_G2FLDP",
        "outputId": "200d07b1-3317-42f9-f5e5-1d555cdf81af"
      },
      "source": [
        "import requests\n",
        "from requests import get\n",
        "import pandas as pd\n",
        "import numpy as np\n",
        "\n",
        "from time import sleep\n",
        "from random import randint\n",
        "\n",
        "from bs4 import BeautifulSoup as soup\n",
        "from urllib.request import Request, urlopen\n",
        "\n",
        "pages = np.arange(21, 8241, 20)\n",
        "stocks = []\n",
        "\n",
        "def allFinViz():\n",
        "\n",
        "  url = (\"https://finviz.com/screener.ashx\")\n",
        "  req = Request(url, headers={'User-Agent': 'Mozilla/5.0'})\n",
        "  webpage = urlopen(req).read()\n",
        "  html = soup(webpage, \"html.parser\")\n",
        "\n",
        "  tickers = html.find_all(attrs = {'class': 'screener-link-primary'})\n",
        "  for ticker in tickers:\n",
        "    stocks.append(ticker.get_text().strip())\n",
        "\n",
        "  for page in pages:\n",
        "    url = (\"https://finviz.com/screener.ashx?v=111&r=\" + str(page))\n",
        "    req = Request(url, headers={'User-Agent': 'Mozilla/5.0'})\n",
        "    webpage = urlopen(req).read()\n",
        "    html = soup(webpage, \"html.parser\")\n",
        "\n",
        "    tickers = html.find_all(attrs = {'class': 'screener-link-primary'})\n",
        "    for ticker in tickers:\n",
        "      stocks.append(ticker.get_text().strip())\n",
        "\n",
        "allFinViz()\n",
        "df = pd.DataFrame(stocks)\n",
        "print(df.size)"
      ],
      "execution_count": null,
      "outputs": [
        {
          "output_type": "stream",
          "text": [
            "8224\n"
          ],
          "name": "stdout"
        }
      ]
    },
    {
      "cell_type": "code",
      "metadata": {
        "colab": {
          "base_uri": "https://localhost:8080/"
        },
        "id": "YUb1GR5XsDIr",
        "outputId": "5943b8d5-231d-4f77-d2ac-97d66393e534"
      },
      "source": [
        "def check_news():\n",
        "  for stock in stocks:\n",
        "    url = (\"https://finviz.com/quote.ashx?t=\" + str(stock) + \"&ty=c&p=d&b=1\")\n",
        "    req = Request(url, headers={'User-Agent': 'Mozilla/5.0'})\n",
        "    webpage = urlopen(req).read()\n",
        "    html = soup(webpage, \"html.parser\")\n",
        "    \n",
        "    news = html.find_all(attrs = {'class': 'fullview-news-outer'})\n",
        "    for ticker in news:\n",
        "      # print(url) # maybe later incorporate how many times the word(s) searched pop up and or save/print the news line that includes the word(s)\n",
        "      test = ticker.get_text().strip()\n",
        "      lowercased = test.lower() # allows us to easily check for words that are not in start of sentence of news articles\n",
        "      if \"blockchain\" in lowercased:\n",
        "        print(\"True\" + \" \" + url)\n",
        "\n",
        "check_news()"
      ],
      "execution_count": null,
      "outputs": [
        {
          "output_type": "stream",
          "text": [
            "True https://finviz.com/quote.ashx?t=ACB&ty=c&p=d&b=1\n",
            "True https://finviz.com/quote.ashx?t=AIQ&ty=c&p=d&b=1\n",
            "True https://finviz.com/quote.ashx?t=AMBO&ty=c&p=d&b=1\n",
            "True https://finviz.com/quote.ashx?t=AMLP&ty=c&p=d&b=1\n",
            "True https://finviz.com/quote.ashx?t=AMST&ty=c&p=d&b=1\n",
            "True https://finviz.com/quote.ashx?t=APM&ty=c&p=d&b=1\n",
            "True https://finviz.com/quote.ashx?t=APO&ty=c&p=d&b=1\n",
            "True https://finviz.com/quote.ashx?t=APPN&ty=c&p=d&b=1\n",
            "True https://finviz.com/quote.ashx?t=ARKG&ty=c&p=d&b=1\n",
            "True https://finviz.com/quote.ashx?t=ARKK&ty=c&p=d&b=1\n",
            "True https://finviz.com/quote.ashx?t=ARKQ&ty=c&p=d&b=1\n",
            "True https://finviz.com/quote.ashx?t=ATIF&ty=c&p=d&b=1\n",
            "True https://finviz.com/quote.ashx?t=AYI&ty=c&p=d&b=1\n",
            "True https://finviz.com/quote.ashx?t=BAOS&ty=c&p=d&b=1\n",
            "True https://finviz.com/quote.ashx?t=BBEU&ty=c&p=d&b=1\n",
            "True https://finviz.com/quote.ashx?t=BBJP&ty=c&p=d&b=1\n",
            "True https://finviz.com/quote.ashx?t=BBRE&ty=c&p=d&b=1\n",
            "True https://finviz.com/quote.ashx?t=BCX&ty=c&p=d&b=1\n",
            "True https://finviz.com/quote.ashx?t=BEN&ty=c&p=d&b=1\n",
            "True https://finviz.com/quote.ashx?t=BIS&ty=c&p=d&b=1\n",
            "True https://finviz.com/quote.ashx?t=BIT&ty=c&p=d&b=1\n",
            "True https://finviz.com/quote.ashx?t=BITF&ty=c&p=d&b=1\n",
            "True https://finviz.com/quote.ashx?t=BLCN&ty=c&p=d&b=1\n",
            "True https://finviz.com/quote.ashx?t=BLOK&ty=c&p=d&b=1\n",
            "True https://finviz.com/quote.ashx?t=BNGO&ty=c&p=d&b=1\n",
            "True https://finviz.com/quote.ashx?t=BOTZ&ty=c&p=d&b=1\n",
            "True https://finviz.com/quote.ashx?t=BR&ty=c&p=d&b=1\n",
            "True https://finviz.com/quote.ashx?t=BTBT&ty=c&p=d&b=1\n",
            "True https://finviz.com/quote.ashx?t=BX&ty=c&p=d&b=1\n",
            "True https://finviz.com/quote.ashx?t=CBOE&ty=c&p=d&b=1\n",
            "True https://finviz.com/quote.ashx?t=CCNC&ty=c&p=d&b=1\n",
            "True https://finviz.com/quote.ashx?t=CGC&ty=c&p=d&b=1\n",
            "True https://finviz.com/quote.ashx?t=CLPS&ty=c&p=d&b=1\n",
            "True https://finviz.com/quote.ashx?t=CLSK&ty=c&p=d&b=1\n",
            "True https://finviz.com/quote.ashx?t=CNET&ty=c&p=d&b=1\n",
            "True https://finviz.com/quote.ashx?t=CNTG&ty=c&p=d&b=1\n",
            "True https://finviz.com/quote.ashx?t=CSCW&ty=c&p=d&b=1\n",
            "True https://finviz.com/quote.ashx?t=CUBI&ty=c&p=d&b=1\n",
            "True https://finviz.com/quote.ashx?t=DALI&ty=c&p=d&b=1\n",
            "True https://finviz.com/quote.ashx?t=DEN&ty=c&p=d&b=1\n",
            "True https://finviz.com/quote.ashx?t=EBON&ty=c&p=d&b=1\n",
            "True https://finviz.com/quote.ashx?t=EKAR&ty=c&p=d&b=1\n",
            "True https://finviz.com/quote.ashx?t=EMB&ty=c&p=d&b=1\n",
            "True https://finviz.com/quote.ashx?t=EMLC&ty=c&p=d&b=1\n",
            "True https://finviz.com/quote.ashx?t=EMQQ&ty=c&p=d&b=1\n",
            "True https://finviz.com/quote.ashx?t=EOS&ty=c&p=d&b=1\n",
            "True https://finviz.com/quote.ashx?t=EQOS&ty=c&p=d&b=1\n",
            "True https://finviz.com/quote.ashx?t=ESGC&ty=c&p=d&b=1\n",
            "True https://finviz.com/quote.ashx?t=ESPO&ty=c&p=d&b=1\n",
            "True https://finviz.com/quote.ashx?t=EVA&ty=c&p=d&b=1\n",
            "True https://finviz.com/quote.ashx?t=EWS&ty=c&p=d&b=1\n",
            "True https://finviz.com/quote.ashx?t=EXTR&ty=c&p=d&b=1\n",
            "True https://finviz.com/quote.ashx?t=FCN&ty=c&p=d&b=1\n",
            "True https://finviz.com/quote.ashx?t=FICO&ty=c&p=d&b=1\n",
            "True https://finviz.com/quote.ashx?t=FIDI&ty=c&p=d&b=1\n",
            "True https://finviz.com/quote.ashx?t=FIVA&ty=c&p=d&b=1\n",
            "True https://finviz.com/quote.ashx?t=FLCH&ty=c&p=d&b=1\n",
            "True https://finviz.com/quote.ashx?t=FLEE&ty=c&p=d&b=1\n",
            "True https://finviz.com/quote.ashx?t=FLJP&ty=c&p=d&b=1\n",
            "True https://finviz.com/quote.ashx?t=FLRU&ty=c&p=d&b=1\n",
            "True https://finviz.com/quote.ashx?t=FNGD&ty=c&p=d&b=1\n",
            "True https://finviz.com/quote.ashx?t=FNGU&ty=c&p=d&b=1\n",
            "True https://finviz.com/quote.ashx?t=FONR&ty=c&p=d&b=1\n",
            "True https://finviz.com/quote.ashx?t=FPE&ty=c&p=d&b=1\n",
            "True https://finviz.com/quote.ashx?t=FTF&ty=c&p=d&b=1\n",
            "True https://finviz.com/quote.ashx?t=FTFT&ty=c&p=d&b=1\n",
            "True https://finviz.com/quote.ashx?t=FTXO&ty=c&p=d&b=1\n",
            "True https://finviz.com/quote.ashx?t=FVD&ty=c&p=d&b=1\n",
            "True https://finviz.com/quote.ashx?t=FXE&ty=c&p=d&b=1\n",
            "True https://finviz.com/quote.ashx?t=FXL&ty=c&p=d&b=1\n",
            "True https://finviz.com/quote.ashx?t=GBOX&ty=c&p=d&b=1\n",
            "True https://finviz.com/quote.ashx?t=GENE&ty=c&p=d&b=1\n",
            "True https://finviz.com/quote.ashx?t=GROW&ty=c&p=d&b=1\n",
            "True https://finviz.com/quote.ashx?t=GSMG&ty=c&p=d&b=1\n",
            "True https://finviz.com/quote.ashx?t=HACK&ty=c&p=d&b=1\n",
            "True https://finviz.com/quote.ashx?t=HAS&ty=c&p=d&b=1\n",
            "True https://finviz.com/quote.ashx?t=HELX&ty=c&p=d&b=1\n",
            "True https://finviz.com/quote.ashx?t=HNDL&ty=c&p=d&b=1\n",
            "True https://finviz.com/quote.ashx?t=HVBT&ty=c&p=d&b=1\n",
            "True https://finviz.com/quote.ashx?t=IBM&ty=c&p=d&b=1\n",
            "True https://finviz.com/quote.ashx?t=ICLK&ty=c&p=d&b=1\n",
            "True https://finviz.com/quote.ashx?t=INFY&ty=c&p=d&b=1\n",
            "True https://finviz.com/quote.ashx?t=IPDN&ty=c&p=d&b=1\n",
            "True https://finviz.com/quote.ashx?t=IYF&ty=c&p=d&b=1\n",
            "True https://finviz.com/quote.ashx?t=JPM&ty=c&p=d&b=1\n",
            "True https://finviz.com/quote.ashx?t=JPMB&ty=c&p=d&b=1\n",
            "True https://finviz.com/quote.ashx?t=KBSF&ty=c&p=d&b=1\n",
            "True https://finviz.com/quote.ashx?t=KOIN&ty=c&p=d&b=1\n",
            "True https://finviz.com/quote.ashx?t=KORP&ty=c&p=d&b=1\n",
            "True https://finviz.com/quote.ashx?t=KURE&ty=c&p=d&b=1\n",
            "True https://finviz.com/quote.ashx?t=LEAD&ty=c&p=d&b=1\n",
            "True https://finviz.com/quote.ashx?t=LEGR&ty=c&p=d&b=1\n",
            "True https://finviz.com/quote.ashx?t=LGHL&ty=c&p=d&b=1\n",
            "True https://finviz.com/quote.ashx?t=LITB&ty=c&p=d&b=1\n",
            "True https://finviz.com/quote.ashx?t=LIVE&ty=c&p=d&b=1\n",
            "True https://finviz.com/quote.ashx?t=LIZI&ty=c&p=d&b=1\n",
            "True https://finviz.com/quote.ashx?t=LQDT&ty=c&p=d&b=1\n",
            "True https://finviz.com/quote.ashx?t=MA&ty=c&p=d&b=1\n",
            "True https://finviz.com/quote.ashx?t=MARA&ty=c&p=d&b=1\n",
            "True https://finviz.com/quote.ashx?t=MDU&ty=c&p=d&b=1\n",
            "True https://finviz.com/quote.ashx?t=METX&ty=c&p=d&b=1\n",
            "True https://finviz.com/quote.ashx?t=MFH&ty=c&p=d&b=1\n",
            "True https://finviz.com/quote.ashx?t=MINT&ty=c&p=d&b=1\n",
            "True https://finviz.com/quote.ashx?t=MJ&ty=c&p=d&b=1\n",
            "True https://finviz.com/quote.ashx?t=MKD&ty=c&p=d&b=1\n",
            "True https://finviz.com/quote.ashx?t=MODN&ty=c&p=d&b=1\n",
            "True https://finviz.com/quote.ashx?t=MOGO&ty=c&p=d&b=1\n",
            "True https://finviz.com/quote.ashx?t=MSTR&ty=c&p=d&b=1\n",
            "True https://finviz.com/quote.ashx?t=NC&ty=c&p=d&b=1\n",
            "True https://finviz.com/quote.ashx?t=NCTY&ty=c&p=d&b=1\n",
            "True https://finviz.com/quote.ashx?t=NJR&ty=c&p=d&b=1\n",
            "True https://finviz.com/quote.ashx?t=NXTD&ty=c&p=d&b=1\n",
            "True https://finviz.com/quote.ashx?t=OCFT&ty=c&p=d&b=1\n",
            "True https://finviz.com/quote.ashx?t=OLB&ty=c&p=d&b=1\n",
            "True https://finviz.com/quote.ashx?t=OPY&ty=c&p=d&b=1\n",
            "True https://finviz.com/quote.ashx?t=ORCL&ty=c&p=d&b=1\n",
            "True https://finviz.com/quote.ashx?t=OSTK&ty=c&p=d&b=1\n",
            "True https://finviz.com/quote.ashx?t=PBTS&ty=c&p=d&b=1\n",
            "True https://finviz.com/quote.ashx?t=PFFA&ty=c&p=d&b=1\n",
            "True https://finviz.com/quote.ashx?t=PFSW&ty=c&p=d&b=1\n",
            "True https://finviz.com/quote.ashx?t=PHUN&ty=c&p=d&b=1\n",
            "True https://finviz.com/quote.ashx?t=PLBY&ty=c&p=d&b=1\n",
            "True https://finviz.com/quote.ashx?t=POR&ty=c&p=d&b=1\n",
            "True https://finviz.com/quote.ashx?t=PULM&ty=c&p=d&b=1\n",
            "True https://finviz.com/quote.ashx?t=QQQ&ty=c&p=d&b=1\n",
            "True https://finviz.com/quote.ashx?t=RCON&ty=c&p=d&b=1\n",
            "True https://finviz.com/quote.ashx?t=RDN&ty=c&p=d&b=1\n",
            "True https://finviz.com/quote.ashx?t=RENN&ty=c&p=d&b=1\n",
            "True https://finviz.com/quote.ashx?t=RIOT&ty=c&p=d&b=1\n",
            "True https://finviz.com/quote.ashx?t=ROBO&ty=c&p=d&b=1\n",
            "True https://finviz.com/quote.ashx?t=RWT&ty=c&p=d&b=1\n",
            "True https://finviz.com/quote.ashx?t=SAVA&ty=c&p=d&b=1\n",
            "True https://finviz.com/quote.ashx?t=SEED&ty=c&p=d&b=1\n",
            "True https://finviz.com/quote.ashx?t=SH&ty=c&p=d&b=1\n",
            "True https://finviz.com/quote.ashx?t=SI&ty=c&p=d&b=1\n",
            "True https://finviz.com/quote.ashx?t=SIEB&ty=c&p=d&b=1\n",
            "True https://finviz.com/quote.ashx?t=SINO&ty=c&p=d&b=1\n",
            "True https://finviz.com/quote.ashx?t=SOS&ty=c&p=d&b=1\n",
            "True https://finviz.com/quote.ashx?t=SOXL&ty=c&p=d&b=1\n",
            "True https://finviz.com/quote.ashx?t=SPY&ty=c&p=d&b=1\n",
            "True https://finviz.com/quote.ashx?t=SPYD&ty=c&p=d&b=1\n",
            "True https://finviz.com/quote.ashx?t=SRAX&ty=c&p=d&b=1\n",
            "True https://finviz.com/quote.ashx?t=TAOP&ty=c&p=d&b=1\n",
            "True https://finviz.com/quote.ashx?t=TEF&ty=c&p=d&b=1\n",
            "True https://finviz.com/quote.ashx?t=TKC&ty=c&p=d&b=1\n",
            "True https://finviz.com/quote.ashx?t=TLRY&ty=c&p=d&b=1\n",
            "True https://finviz.com/quote.ashx?t=TQQQ&ty=c&p=d&b=1\n",
            "True https://finviz.com/quote.ashx?t=TYHT&ty=c&p=d&b=1\n",
            "True https://finviz.com/quote.ashx?t=UVXY&ty=c&p=d&b=1\n",
            "True https://finviz.com/quote.ashx?t=VALQ&ty=c&p=d&b=1\n",
            "True https://finviz.com/quote.ashx?t=VFH&ty=c&p=d&b=1\n",
            "True https://finviz.com/quote.ashx?t=VIRT&ty=c&p=d&b=1\n",
            "True https://finviz.com/quote.ashx?t=WBT&ty=c&p=d&b=1\n",
            "True https://finviz.com/quote.ashx?t=WKEY&ty=c&p=d&b=1\n",
            "True https://finviz.com/quote.ashx?t=WLFC&ty=c&p=d&b=1\n",
            "True https://finviz.com/quote.ashx?t=WNS&ty=c&p=d&b=1\n",
            "True https://finviz.com/quote.ashx?t=XIN&ty=c&p=d&b=1\n",
            "True https://finviz.com/quote.ashx?t=XNET&ty=c&p=d&b=1\n",
            "True https://finviz.com/quote.ashx?t=XPDI&ty=c&p=d&b=1\n",
            "True https://finviz.com/quote.ashx?t=XPDIU&ty=c&p=d&b=1\n",
            "True https://finviz.com/quote.ashx?t=XT&ty=c&p=d&b=1\n",
            "True https://finviz.com/quote.ashx?t=XTN&ty=c&p=d&b=1\n",
            "True https://finviz.com/quote.ashx?t=YYY&ty=c&p=d&b=1\n",
            "True https://finviz.com/quote.ashx?t=ZKIN&ty=c&p=d&b=1\n"
          ],
          "name": "stdout"
        }
      ]
    },
    {
      "cell_type": "code",
      "metadata": {
        "id": "LwbAT2nAsDgL"
      },
      "source": [
        "#### maybe bc scraping from top gainers and its new, the list sizing issues keep arising. However not right here when this code above is ran."
      ],
      "execution_count": null,
      "outputs": []
    }
  ]
}