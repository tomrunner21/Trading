{
  "nbformat": 4,
  "nbformat_minor": 0,
  "metadata": {
    "colab": {
      "name": "news from one entire sector within one entire industry in one country.ipynb",
      "provenance": [],
      "authorship_tag": "ABX9TyPJe66toucnX2AXe94O2xIY",
      "include_colab_link": true
    },
    "kernelspec": {
      "name": "python3",
      "display_name": "Python 3"
    },
    "language_info": {
      "name": "python"
    }
  },
  "cells": [
    {
      "cell_type": "markdown",
      "metadata": {
        "id": "view-in-github",
        "colab_type": "text"
      },
      "source": [
        "<a href=\"https://colab.research.google.com/github/tomrunner21/Trading/blob/main/news_from_one_entire_sector_within_one_entire_industry_in_one_country.ipynb\" target=\"_parent\"><img src=\"https://colab.research.google.com/assets/colab-badge.svg\" alt=\"Open In Colab\"/></a>"
      ]
    },
    {
      "cell_type": "code",
      "metadata": {
        "colab": {
          "base_uri": "https://localhost:8080/"
        },
        "id": "tbcR5aHFx75D",
        "outputId": "4233cdbc-31be-48cb-adb9-9addb7875537"
      },
      "source": [
        "from google.colab import drive\n",
        "drive.mount('drive')"
      ],
      "execution_count": null,
      "outputs": [
        {
          "output_type": "stream",
          "text": [
            "Drive already mounted at drive; to attempt to forcibly remount, call drive.mount(\"drive\", force_remount=True).\n"
          ],
          "name": "stdout"
        }
      ]
    },
    {
      "cell_type": "code",
      "metadata": {
        "colab": {
          "base_uri": "https://localhost:8080/"
        },
        "id": "Zrmbn_G2FLDP",
        "outputId": "2cdfac1a-81ff-4257-f31d-5a7030055e7e"
      },
      "source": [
        "import requests\n",
        "from requests import get\n",
        "import pandas as pd\n",
        "import numpy as np\n",
        "\n",
        "from time import sleep\n",
        "from random import randint\n",
        "\n",
        "from bs4 import BeautifulSoup as soup\n",
        "from urllib.request import Request, urlopen\n",
        "\n",
        "pages = np.arange(21, 101, 20)\n",
        "tickers = []\n",
        "\n",
        "def softwareUSA_tickers():\n",
        "\n",
        "  url = (\"https://finviz.com/screener.ashx?v=111&f=geo_usa,ind_softwareapplication\")\n",
        "  req = Request(url, headers={'User-Agent': 'Mozilla/5.0'})\n",
        "  webpage = urlopen(req).read()\n",
        "  html_first = soup(webpage, \"html.parser\")\n",
        "\n",
        "  gainers1 = html_first.find_all(attrs = {'class': 'screener-link-primary'})\n",
        "  for ticker in gainers1:\n",
        "    tickers.append(ticker.get_text().strip())\n",
        "\n",
        "  for page in pages:\n",
        "    url = (\"https://finviz.com/screener.ashx?v=111&f=geo_usa,ind_softwareapplication&r=\" + str(page))\n",
        "    req = Request(url, headers={'User-Agent': 'Mozilla/5.0'})\n",
        "    webpage = urlopen(req).read()\n",
        "    html_second = soup(webpage, \"html.parser\")\n",
        "\n",
        "    gainers = html_second.find_all(attrs = {'class': 'screener-link-primary'})\n",
        "    for ticker in gainers:\n",
        "      tickers.append(ticker.get_text().strip())\n",
        "\n",
        "softwareUSA_tickers()\n",
        "df = pd.DataFrame(tickers)\n",
        "print(df.size)"
      ],
      "execution_count": null,
      "outputs": [
        {
          "output_type": "stream",
          "text": [
            "100\n"
          ],
          "name": "stdout"
        }
      ]
    },
    {
      "cell_type": "code",
      "metadata": {
        "colab": {
          "base_uri": "https://localhost:8080/"
        },
        "id": "PuqKDRiRGqOm",
        "outputId": "15c58f24-115a-482f-cea5-9d3402ec57e1"
      },
      "source": [
        "import requests\n",
        "from requests import get\n",
        "import pandas as pd\n",
        "import numpy as np\n",
        "\n",
        "from time import sleep\n",
        "from random import randint\n",
        "\n",
        "from bs4 import BeautifulSoup as soup\n",
        "from urllib.request import Request, urlopen\n",
        "\n",
        "pages2 = np.arange(101, 181, 20)\n",
        "list2 = []\n",
        "\n",
        "def get_second_part():\n",
        "  for page in pages2:\n",
        "    url = (\"https://finviz.com/screener.ashx?v=111&f=geo_usa,ind_softwareapplication&r=\" + str(page))\n",
        "    req = Request(url, headers={'User-Agent': 'Mozilla/5.0'})\n",
        "    webpage = urlopen(req).read()\n",
        "    html = soup(webpage, \"html.parser\")\n",
        "\n",
        "    gainers = html.find_all(attrs = {'class': 'screener-link-primary'})\n",
        "    for ticker in gainers:\n",
        "      list2.append(ticker.get_text().strip())\n",
        "\n",
        "get_second_part()\n",
        "df2 = pd.DataFrame(list2)\n",
        "print(df2.size)"
      ],
      "execution_count": null,
      "outputs": [
        {
          "output_type": "stream",
          "text": [
            "70\n"
          ],
          "name": "stdout"
        }
      ]
    },
    {
      "cell_type": "code",
      "metadata": {
        "colab": {
          "base_uri": "https://localhost:8080/"
        },
        "id": "qkbqQrE4HyAN",
        "outputId": "17ac427d-11b0-48d1-c63e-bbcc52ec7f83"
      },
      "source": [
        "result = df.append(df2)\n",
        "result.reset_index(drop=True, inplace=True)\n",
        "# print(result)\n",
        "result_list = result.values.tolist()\n",
        "# result_list\n",
        "tickers_final = tickers + list2\n",
        "print(len(tickers_final))"
      ],
      "execution_count": null,
      "outputs": [
        {
          "output_type": "stream",
          "text": [
            "170\n"
          ],
          "name": "stdout"
        }
      ]
    },
    {
      "cell_type": "code",
      "metadata": {
        "colab": {
          "base_uri": "https://localhost:8080/"
        },
        "id": "y20v-wbyyT8z",
        "outputId": "9e67a279-94c0-4390-a7aa-71009e2fb61e"
      },
      "source": [
        "import requests\n",
        "from requests import get\n",
        "import pandas as pd\n",
        "import numpy as np\n",
        "\n",
        "from time import sleep\n",
        "from random import randint\n",
        "\n",
        "from bs4 import BeautifulSoup as soup\n",
        "from urllib.request import Request, urlopen\n",
        "\n",
        "def get_multipage_news(): \n",
        "\n",
        "  for ticker in tickers_final:\n",
        "    url = (\"https://finviz.com/quote.ashx?t=\" + str(ticker) + \"&ty=c&p=d&b=1\")\n",
        "    req = Request(url, headers={'User-Agent': 'Mozilla/5.0'})\n",
        "    webpage = urlopen(req).read()\n",
        "    html = soup(webpage, \"html.parser\")\n",
        "\n",
        "    news = html.find_all(attrs = {'class': 'fullview-news-outer'})\n",
        "    for headline in news:\n",
        "      text = headline.get_text().strip()\n",
        "      lowercased = text.lower() # allows us to easily check for words that are not in start of sentence of news articles\n",
        "      if \"blockchain\" in lowercased:\n",
        "        print(url)\n",
        "        print(\"True\")\n",
        "\n",
        "get_multipage_news()\n",
        "\n",
        "# df.to_csv('top_gainers_072321.csv')\n",
        "# !cp top_gainers_072321.csv \"drive/My Drive/\"\n",
        "\n",
        "# https://finviz.com/quote.ashx?t=AVLR&ty=c&p=d&b=1\n",
        "# https://finviz.com/quote.ashx?t=AVYA&ty=c&p=d&b=1"
      ],
      "execution_count": null,
      "outputs": [
        {
          "output_type": "stream",
          "text": [
            "https://finviz.com/quote.ashx?t=AMST&ty=c&p=d&b=1\n",
            "True\n",
            "https://finviz.com/quote.ashx?t=BTBT&ty=c&p=d&b=1\n",
            "True\n",
            "https://finviz.com/quote.ashx?t=COIN&ty=c&p=d&b=1\n",
            "True\n",
            "https://finviz.com/quote.ashx?t=FICO&ty=c&p=d&b=1\n",
            "True\n",
            "https://finviz.com/quote.ashx?t=MODN&ty=c&p=d&b=1\n",
            "True\n",
            "https://finviz.com/quote.ashx?t=MSTR&ty=c&p=d&b=1\n",
            "True\n",
            "https://finviz.com/quote.ashx?t=OLB&ty=c&p=d&b=1\n",
            "True\n",
            "https://finviz.com/quote.ashx?t=PHUN&ty=c&p=d&b=1\n",
            "True\n",
            "https://finviz.com/quote.ashx?t=RIOT&ty=c&p=d&b=1\n",
            "True\n"
          ],
          "name": "stdout"
        }
      ]
    }
  ]
}