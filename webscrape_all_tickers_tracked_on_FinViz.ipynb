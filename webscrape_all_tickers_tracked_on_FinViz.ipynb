{
  "nbformat": 4,
  "nbformat_minor": 0,
  "metadata": {
    "colab": {
      "name": "webscrape all tickers tracked on FinViz.ipynb",
      "provenance": [],
      "collapsed_sections": [],
      "authorship_tag": "ABX9TyPHPRR5eMAXC0aM3diSP3G2",
      "include_colab_link": true
    },
    "kernelspec": {
      "name": "python3",
      "display_name": "Python 3"
    },
    "language_info": {
      "name": "python"
    }
  },
  "cells": [
    {
      "cell_type": "markdown",
      "metadata": {
        "id": "view-in-github",
        "colab_type": "text"
      },
      "source": [
        "<a href=\"https://colab.research.google.com/github/tomrunner21/Trading/blob/main/webscrape_all_tickers_tracked_on_FinViz.ipynb\" target=\"_parent\"><img src=\"https://colab.research.google.com/assets/colab-badge.svg\" alt=\"Open In Colab\"/></a>"
      ]
    },
    {
      "cell_type": "code",
      "metadata": {
        "colab": {
          "base_uri": "https://localhost:8080/"
        },
        "id": "yyYdm0Wxbw3G",
        "outputId": "5a227159-71ab-47e7-f790-f5db9c7a074c"
      },
      "source": [
        "from google.colab import drive\n",
        "drive.mount('drive')"
      ],
      "execution_count": null,
      "outputs": [
        {
          "output_type": "stream",
          "text": [
            "Mounted at drive\n"
          ],
          "name": "stdout"
        }
      ]
    },
    {
      "cell_type": "code",
      "metadata": {
        "colab": {
          "base_uri": "https://localhost:8080/"
        },
        "id": "6xXnBDkAcACD",
        "outputId": "81896c79-8b10-4ec4-b566-4c21ecacb3d3"
      },
      "source": [
        "import requests\n",
        "from requests import get\n",
        "import pandas as pd\n",
        "import numpy as np\n",
        "\n",
        "from time import sleep\n",
        "from random import randint\n",
        "\n",
        "from bs4 import BeautifulSoup as soup\n",
        "from urllib.request import Request, urlopen\n",
        "\n",
        "pages = np.arange(21, 8241, 20)\n",
        "stocks = []\n",
        "\n",
        "def all_FinViz():\n",
        "  count = 0\n",
        "  url = (\"https://finviz.com/screener.ashx\")\n",
        "  req = Request(url, headers={'User-Agent': 'Mozilla/5.0'})\n",
        "  webpage = urlopen(req).read()\n",
        "  html = soup(webpage, \"html.parser\")\n",
        "\n",
        "  tickers = html.find_all(attrs = {'class': 'screener-link-primary'})\n",
        "  for ticker in tickers:\n",
        "    stocks.append(ticker.get_text().strip())\n",
        "\n",
        "  for page in pages:\n",
        "    url = (\"https://finviz.com/screener.ashx?v=111&r=\" + str(page))\n",
        "    req = Request(url, headers={'User-Agent': 'Mozilla/5.0'})\n",
        "    webpage = urlopen(req).read()\n",
        "    html = soup(webpage, \"html.parser\")\n",
        "\n",
        "    gainers = html.find_all(attrs = {'class': 'screener-link-primary'})\n",
        "    for ticker in gainers:\n",
        "      stocks.append(ticker.get_text().strip())\n",
        "      # print(ticker.get_text().strip())\n",
        "\n",
        "all_FinViz()\n",
        "df = pd.DataFrame(stocks)\n",
        "# print(df.size)\n",
        "\n",
        "# print(list)\n",
        "# print(df)\n",
        "\n",
        "# df.to_csv('top_gainers_072321.csv')\n",
        "# !cp top_gainers_072321.csv \"drive/My Drive/\"\n"
      ],
      "execution_count": null,
      "outputs": [
        {
          "output_type": "stream",
          "text": [
            "A\n",
            "AA\n",
            "AAAU\n",
            "AAC\n",
            "AACG\n",
            "AADR\n",
            "AAIC\n",
            "AAL\n",
            "AAMC\n",
            "AAME\n",
            "AAN\n",
            "AAOI\n",
            "AAON\n",
            "AAP\n",
            "AAPL\n",
            "AAQC\n",
            "AAT\n",
            "AATC\n",
            "AAU\n",
            "AAWW\n",
            "8224\n"
          ],
          "name": "stdout"
        }
      ]
    },
    {
      "cell_type": "code",
      "metadata": {
        "id": "wXusPgxqeoHe"
      },
      "source": [
        "### Export:\n",
        "# df.to_csv('FinViz_tickers_072621.csv')\n",
        "# !cp FinViz_tickers_072621.csv \"drive/My Drive/\"\n",
        "\n",
        "### was able to run this in about under two minutes"
      ],
      "execution_count": null,
      "outputs": []
    },
    {
      "cell_type": "code",
      "metadata": {
        "id": "Dj8ZnHnzdKXw"
      },
      "source": [
        "# https://finviz.com/screener.ashx\n",
        "# https://finviz.com/screener.ashx?v=111&r=8221"
      ],
      "execution_count": null,
      "outputs": []
    }
  ]
}