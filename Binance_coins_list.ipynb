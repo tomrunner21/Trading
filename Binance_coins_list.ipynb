{
  "nbformat": 4,
  "nbformat_minor": 0,
  "metadata": {
    "colab": {
      "name": "Binance coins list.ipynb",
      "provenance": [],
      "collapsed_sections": [],
      "authorship_tag": "ABX9TyNMeKqFZq7kz9AuDLmnVMOi",
      "include_colab_link": true
    },
    "kernelspec": {
      "name": "python3",
      "display_name": "Python 3"
    },
    "language_info": {
      "name": "python"
    }
  },
  "cells": [
    {
      "cell_type": "markdown",
      "metadata": {
        "id": "view-in-github",
        "colab_type": "text"
      },
      "source": [
        "<a href=\"https://colab.research.google.com/github/tomrunner21/Trading/blob/main/Binance_coins_list.ipynb\" target=\"_parent\"><img src=\"https://colab.research.google.com/assets/colab-badge.svg\" alt=\"Open In Colab\"/></a>"
      ]
    },
    {
      "cell_type": "code",
      "metadata": {
        "id": "PY-CBvUrpIB5"
      },
      "source": [
        "# trying to scrape the binance supported coins for later usage from all markets on the coinmarketcap website, going to get just btc market later on:"
      ],
      "execution_count": null,
      "outputs": []
    },
    {
      "cell_type": "code",
      "metadata": {
        "id": "dXHCDrsWrCll"
      },
      "source": [
        "# class=\"css-1c1ahuy\"\n",
        "# class=\"css-1498pa5\"\n",
        "# class=\"css-1ap5wc6\"\n",
        "# id=\"market_sector_Zone\"\n",
        "# class=\"css-sin44v\"\n",
        "# class=\"css-7ea2d1\"\n",
        "# class=\"sc-130rhjl-0 kLuYhf cmc-link\"\n",
        "# class=\"sc-130rhjl-0 kLuYhf cmc-link\""
      ],
      "execution_count": null,
      "outputs": []
    },
    {
      "cell_type": "code",
      "metadata": {
        "colab": {
          "base_uri": "https://localhost:8080/"
        },
        "id": "bvmjyb9OrIxv",
        "outputId": "9c911ad4-8ba7-4ae8-cf0d-53661019a7f8"
      },
      "source": [
        "from google.colab import drive\n",
        "drive.mount('drive')"
      ],
      "execution_count": 1,
      "outputs": [
        {
          "output_type": "stream",
          "text": [
            "Mounted at drive\n"
          ],
          "name": "stdout"
        }
      ]
    },
    {
      "cell_type": "code",
      "metadata": {
        "colab": {
          "base_uri": "https://localhost:8080/"
        },
        "id": "atbOsImFrZnX",
        "outputId": "9238d757-faec-44fe-830c-f7abcdc94164"
      },
      "source": [
        "import requests\n",
        "from requests import get\n",
        "import pandas as pd\n",
        "import numpy as np\n",
        "\n",
        "from time import sleep\n",
        "from random import randint\n",
        "\n",
        "from bs4 import BeautifulSoup as soup\n",
        "from urllib.request import Request, urlopen\n",
        "\n",
        "coins = []\n",
        "\n",
        "def SFP_for_one():\n",
        "\n",
        "  url = (\"https://coinmarketcap.com/exchanges/binance/\")\n",
        "  req = Request(url, headers={'User-Agent': 'Mozilla/5.0'})\n",
        "  webpage = urlopen(req).read()\n",
        "  html = soup(webpage, \"html.parser\")\n",
        "  # print(html)\n",
        "  supported = html.find_all(attrs = {'class': 'sc-130rhjl-0 kLuYhf cmc-link'})\n",
        "  # print(supported)\n",
        "  for coin in supported:\n",
        "    # coins.append(coin.get_text().strip())\n",
        "    text = coin.get_text().strip()\n",
        "    if \"/USDT\" in text:\n",
        "      coins.append(coin.get_text().strip())\n",
        "      print(text)\n",
        "    # print(text)\n",
        "\n",
        "SFP_for_one()\n",
        "df_coins = pd.DataFrame(coins)"
      ],
      "execution_count": 30,
      "outputs": [
        {
          "output_type": "stream",
          "text": [
            "ETH/USDT\n",
            "BTC/USDT\n",
            "AXS/USDT\n",
            "BUSD/USDT\n",
            "DOGE/USDT\n",
            "BNB/USDT\n",
            "ADA/USDT\n",
            "XRP/USDT\n",
            "IOTX/USDT\n",
            "ICP/USDT\n",
            "MATIC/USDT\n",
            "ALICE/USDT\n",
            "PSG/USDT\n",
            "DOT/USDT\n",
            "RVN/USDT\n",
            "TLM/USDT\n",
            "LINK/USDT\n",
            "LUNA/USDT\n",
            "FIL/USDT\n",
            "LTC/USDT\n",
            "ETC/USDT\n",
            "SLP/USDT\n",
            "USDC/USDT\n",
            "EOS/USDT\n",
            "SAND/USDT\n",
            "SHIB/USDT\n",
            "VET/USDT\n",
            "SOL/USDT\n",
            "MINA/USDT\n",
            "CHZ/USDT\n",
            "THETA/USDT\n",
            "BAKE/USDT\n",
            "UNI/USDT\n",
            "HOT/USDT\n",
            "SUSHI/USDT\n",
            "BCH/USDT\n",
            "TRX/USDT\n",
            "CTSI/USDT\n",
            "AAVE/USDT\n",
            "KSM/USDT\n",
            "RUNE/USDT\n",
            "EUR/USDT\n",
            "HNT/USDT\n",
            "CAKE/USDT\n",
            "SXP/USDT\n",
            "BTT/USDT\n",
            "WIN/USDT\n",
            "EPS/USDT\n",
            "NEO/USDT\n",
            "XLM/USDT\n",
            "CHR/USDT\n",
            "GRT/USDT\n",
            "MANA/USDT\n",
            "FET/USDT\n",
            "KAVA/USDT\n",
            "SUPER/USDT\n",
            "ORN/USDT\n",
            "ATOM/USDT\n",
            "ENJ/USDT\n",
            "BADGER/USDT\n",
            "IOTA/USDT\n",
            "TRU/USDT\n",
            "FTM/USDT\n",
            "1INCH/USDT\n",
            "DENT/USDT\n"
          ],
          "name": "stdout"
        }
      ]
    },
    {
      "cell_type": "code",
      "metadata": {
        "colab": {
          "base_uri": "https://localhost:8080/"
        },
        "id": "zrFzyRZHsSwr",
        "outputId": "e8cb667b-dc2e-411f-ab99-d2028e64ea20"
      },
      "source": [
        "# coins"
      ],
      "execution_count": 29,
      "outputs": [
        {
          "output_type": "execute_result",
          "data": {
            "text/plain": [
              "['ETH/BTC',\n",
              " 'ADA/BTC',\n",
              " 'AXS/BTC',\n",
              " 'IOTX/BTC',\n",
              " 'BNB/BTC',\n",
              " 'DOGE/BTC',\n",
              " 'XRP/BTC',\n",
              " 'LUNA/BTC']"
            ]
          },
          "metadata": {
            "tags": []
          },
          "execution_count": 29
        }
      ]
    },
    {
      "cell_type": "code",
      "metadata": {
        "colab": {
          "base_uri": "https://localhost:8080/"
        },
        "id": "jpFQCG_asJ8W",
        "outputId": "d90cc745-55e5-41db-f922-77af94ff2067"
      },
      "source": [
        "print(df_coins.size)"
      ],
      "execution_count": 31,
      "outputs": [
        {
          "output_type": "stream",
          "text": [
            "65\n"
          ],
          "name": "stdout"
        }
      ]
    },
    {
      "cell_type": "code",
      "metadata": {
        "id": "ChuPTbfIzcH6"
      },
      "source": [
        "# going to test down here why the list can only store 100 items before ending when there are 1200 coins or 284 coins that I want to add into the list:"
      ],
      "execution_count": null,
      "outputs": []
    },
    {
      "cell_type": "code",
      "metadata": {
        "id": "A5lSMtzlzoeJ"
      },
      "source": [
        ""
      ],
      "execution_count": null,
      "outputs": []
    }
  ]
}