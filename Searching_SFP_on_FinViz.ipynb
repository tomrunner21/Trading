{
  "nbformat": 4,
  "nbformat_minor": 0,
  "metadata": {
    "colab": {
      "name": "Searching SFP on FinViz.ipynb",
      "provenance": [],
      "collapsed_sections": [],
      "authorship_tag": "ABX9TyNZhaYQVbeIsK9E7IcsAs0t",
      "include_colab_link": true
    },
    "kernelspec": {
      "name": "python3",
      "display_name": "Python 3"
    },
    "language_info": {
      "name": "python"
    }
  },
  "cells": [
    {
      "cell_type": "markdown",
      "metadata": {
        "id": "view-in-github",
        "colab_type": "text"
      },
      "source": [
        "<a href=\"https://colab.research.google.com/github/tomrunner21/Trading/blob/main/Searching_SFP_on_FinViz.ipynb\" target=\"_parent\"><img src=\"https://colab.research.google.com/assets/colab-badge.svg\" alt=\"Open In Colab\"/></a>"
      ]
    },
    {
      "cell_type": "code",
      "metadata": {
        "id": "hewK44-NqlDk"
      },
      "source": [
        "### My goal right now is to just search and find all the SFP for all tickers stored on FinViz\n",
        "# then to later store the data to easily store for later use\n",
        "# then be able to manipulate this stored data in most likely:\n",
        "  # 1. greatest to less than SFP\n",
        "  # 2. no SFP atm\n",
        "  # 3. SFP just put down for a ticker(s), so would need to check for differences from stored data to data pulled today\n",
        "  # 4. SFP within a set range, so higher than say 15 percent or an insane amount like 40%\n",
        "  # 5. SFP set range AND other indicators of a company that work well or have a history of moving in a stock\n",
        "    # 5a. such as high SFP mixed with small cap OR micro cap floaters\n",
        "    # 5b. range of SFP mixed with strong known catalyst to come or new headliner that has a strong prob to get more attention/FOMO/volume to ticker\n",
        "  # 6. ask the user for the specifics they want for tickers like SFP, SF, SO, RSI, MC, .... then return True or false on all tickers selected from FinViz OR from just a certain area that the user could also specify early on\n",
        "  # 7. if stock is within a certain range of ATH of certain HUGE price that needs to get eyes on and assess, such as on 080421 IMPL had a 20% day bc it was able to break ATH at 15.32 but did not notice it till after the huge move. so purpose is to come and watch in case it moves beforehand\n",
        "  # 8. ..."
      ],
      "execution_count": null,
      "outputs": []
    },
    {
      "cell_type": "code",
      "metadata": {
        "id": "pwWth6KYwxl1"
      },
      "source": [
        "# financial, reinsurance/insurance, usa\n",
        "# Communication Services | Internet Content & Information | China\n",
        "# Real Estate | REIT - Diversified | USA (NREF)\n",
        "# IPOs\n",
        "# Roblox (RBLX)\n",
        "# *** AMD is the large larger floater for the semi sector and has been mving for nearly a week like crazy and just barely today we got the move in the smaller floater world with MOSY and ATOM, look for the large large caps that lead the large cap world for different sectors and see how much longer it takes for the smaller caps to follow and which ones best simp to those larges and then the simps to the leaders/simps of the larger caps\n",
        "  #CAMT not so well know semi that has been getting moves unknown near the bottom: Technology | Semiconductor Equipment & Materials | Israel\n",
        "# Consumer Cyclical | Restaurants | USA    /    Consumer Cyclical | Gambling | USA      /      \n",
        "# oil and gas\n",
        "# mining and other metal mining\n",
        "# Financial | Credit Services | USA (LC), why is LC still going into more ATHs????? is bc of credit cards being used more, owning nothing and lending everything, to recent renters getting evicted so use of credit cards opening up like crazy to second pandemic increasing this usage???\n",
        "#   Financial | Capital Markets | USA = MARA = crypto mining related news\n",
        "# Technology | Electronic Components | USA (OUST)"
      ],
      "execution_count": null,
      "outputs": []
    }
  ]
}